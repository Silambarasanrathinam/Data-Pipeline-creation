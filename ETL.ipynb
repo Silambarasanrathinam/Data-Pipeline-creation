{
 "cells": [
  {
   "cell_type": "code",
   "execution_count": 1,
   "metadata": {},
   "outputs": [
    {
     "name": "stdout",
     "output_type": "stream",
     "text": [
      "Requirement already satisfied: openpyxl in c:\\users\\sr00896582\\appdata\\local\\programs\\python\\python311\\.venv\\lib\\site-packages (3.1.2)\n",
      "Requirement already satisfied: et-xmlfile in c:\\users\\sr00896582\\appdata\\local\\programs\\python\\python311\\.venv\\lib\\site-packages (from openpyxl) (1.1.0)\n",
      "Note: you may need to restart the kernel to use updated packages.\n"
     ]
    }
   ],
   "source": [
    "pip install openpyxl"
   ]
  },
  {
   "cell_type": "code",
   "execution_count": 2,
   "metadata": {},
   "outputs": [],
   "source": [
    "#pip install SQLAlchemy"
   ]
  },
  {
   "cell_type": "code",
   "execution_count": 3,
   "metadata": {},
   "outputs": [],
   "source": [
    "import pyodbc\n",
    "import pandas as pd\n",
    "from sqlalchemy import create_engine\n",
    "import numpy as np"
   ]
  },
  {
   "cell_type": "code",
   "execution_count": 4,
   "metadata": {},
   "outputs": [],
   "source": [
    "# Load the data into a DataFrame\n",
    "\n",
    "data = pd.read_excel('data.xlsx',sheet_name='masterdata')\n",
    "data1 = pd.read_excel('data.xlsx',sheet_name='price')\n",
    "data2 = pd.read_excel('data.xlsx',sheet_name='Mat_attributes')\n",
    "df = pd.DataFrame(data)\n",
    "df1= pd.DataFrame(data1)\n",
    "df2 = pd.DataFrame(data2)"
   ]
  },
  {
   "cell_type": "code",
   "execution_count": 7,
   "metadata": {},
   "outputs": [
    {
     "name": "stdout",
     "output_type": "stream",
     "text": [
      "<class 'pandas.core.frame.DataFrame'>\n",
      "RangeIndex: 18093 entries, 0 to 18092\n",
      "Data columns (total 3 columns):\n",
      " #   Column                Non-Null Count  Dtype \n",
      "---  ------                --------------  ----- \n",
      " 0   Product No           18093 non-null  object\n",
      " 1   Prod Categoty        18093 non-null  object\n",
      " 2   Product Description  18093 non-null  object\n",
      "dtypes: object(3)\n",
      "memory usage: 424.2+ KB\n"
     ]
    }
   ],
   "source": [
    "df2.info()"
   ]
  },
  {
   "cell_type": "code",
   "execution_count": 16,
   "metadata": {},
   "outputs": [],
   "source": [
    "cols=[]\n",
    "\n",
    "for i in df.columns:\n",
    "    i=i.strip().split(' ')\n",
    "    i=('_').join(i)\n",
    "    cols.append(i)\n",
    "df.columns = cols"
   ]
  },
  {
   "cell_type": "code",
   "execution_count": 17,
   "metadata": {},
   "outputs": [],
   "source": [
    "cols=[]\n",
    "\n",
    "for i in df1.columns:\n",
    "    i=i.strip().split(' ')\n",
    "    i=('_').join(i)\n",
    "    cols.append(i)\n",
    "df1.columns = cols"
   ]
  },
  {
   "cell_type": "code",
   "execution_count": 18,
   "metadata": {},
   "outputs": [],
   "source": [
    "cols=[]\n",
    "\n",
    "for i in df2.columns:\n",
    "    i=i.strip().split(' ')\n",
    "    i=('_').join(i)\n",
    "    cols.append(i)\n",
    "df2.columns = cols"
   ]
  },
  {
   "cell_type": "code",
   "execution_count": 19,
   "metadata": {},
   "outputs": [],
   "source": [
    "# Replace these variables with your actual SQL Server credentials and database information\n",
    "server = 'XXXXX'\n",
    "database = 'XXX'\n",
    "username = 'XX\n",
    "password = 'XXXX'\n",
    "driver = '{ODBC Driver 17 for SQL Server}'  # Driver version may vary, depending on your setup"
   ]
  },
  {
   "cell_type": "code",
   "execution_count": 20,
   "metadata": {},
   "outputs": [
    {
     "name": "stdout",
     "output_type": "stream",
     "text": [
      "Connected to SQL Server\n"
     ]
    }
   ],
   "source": [
    "#Establish the connection\n",
    "try:\n",
    "    conn = pyodbc.connect(\n",
    "        f'DRIVER={driver};SERVER={server};DATABASE={database};UID={username};PWD={password}'\n",
    "    )\n",
    "    cursor = conn.cursor()\n",
    "    print(\"Connected to SQL Server\")\n",
    "except pyodbc.Error as e:\n",
    "    print(f\"Error connecting to SQL Server: {e}\")\n",
    "    exit(1)"
   ]
  },
  {
   "cell_type": "code",
   "execution_count": 26,
   "metadata": {},
   "outputs": [
    {
     "data": {
      "text/plain": [
       "Index(['M_no', 'V_no', 'Pl_Name', 'Pl_Country', 'Price'], dtype='object')"
      ]
     },
     "execution_count": 26,
     "metadata": {},
     "output_type": "execute_result"
    }
   ],
   "source": [
    "df1.columns\n"
   ]
  },
  {
   "cell_type": "code",
   "execution_count": 27,
   "metadata": {},
   "outputs": [],
   "source": [
    "# Define the table name for your new table\n",
    "table_name = 'masterdata'\n",
    "primarykey = 'V_No'\n",
    "\n",
    "table_name1 = 'priceinformation'\n",
    "primarykey1 = 'M_no'\n",
    "\n",
    "table_name2 = 'attributemamaster'\n",
    "primarykey2 = 'M_no'"
   ]
  },
  {
   "cell_type": "code",
   "execution_count": null,
   "metadata": {},
   "outputs": [],
   "source": [
    "\n",
    "# Generate the CREATE TABLE statement based on DataFrame schema\n",
    "create_table_sql = f\"CREATE TABLE {table_name} (\"\n",
    "\n",
    "# Data type mapping dictionary\n",
    "type_mapping = {\n",
    "    'int64': 'INT',\n",
    "    'float64': 'FLOAT',\n",
    "    'object': 'VARCHAR(255)',  # Adjust the max length as needed\n",
    "}\n",
    "\n",
    "for column, dtype in df.dtypes.items():\n",
    "    sql_type = type_mapping.get(str(dtype), 'varchar(255)')  # Default to VARCHAR if data type not in the mapping\n",
    "    print(sql_type)\n",
    "    if column == primarykey :\n",
    "        create_table_sql += f\"\\n{column} {sql_type} PRIMARY KEY,\"\n",
    "    else:\n",
    "        create_table_sql += f\"\\n{column} {sql_type} NULL,\""
   ]
  },
  {
   "cell_type": "code",
   "execution_count": 28,
   "metadata": {},
   "outputs": [
    {
     "name": "stdout",
     "output_type": "stream",
     "text": [
      "VARCHAR(255)\n",
      "INT\n",
      "VARCHAR(255)\n",
      "VARCHAR(255)\n",
      "FLOAT\n"
     ]
    }
   ],
   "source": [
    "# Generate the CREATE TABLE statement based on DataFrame schema (priceinformation)\n",
    "create_table_sql1 = f\"CREATE TABLE {table_name1} (\"\n",
    "\n",
    "# Data type mapping dictionary\n",
    "type_mapping = {\n",
    "    'int64': 'INT',\n",
    "    'float64': 'FLOAT',\n",
    "    'object': 'VARCHAR(255)',  # Adjust the max length as needed\n",
    "}\n",
    "\n",
    "for column, dtype in df1.dtypes.items():\n",
    "    sql_type = type_mapping.get(str(dtype), 'varchar(255)')  # Default to VARCHAR if data type not in the mapping\n",
    "    print(sql_type)\n",
    "    if column == primarykey :\n",
    "        create_table_sql1 += f\"\\n{column} {sql_type} PRIMARY KEY,\"\n",
    "    else:\n",
    "        create_table_sql1 += f\"\\n{column} {sql_type} NULL,\""
   ]
  },
  {
   "cell_type": "code",
   "execution_count": 29,
   "metadata": {},
   "outputs": [
    {
     "name": "stdout",
     "output_type": "stream",
     "text": [
      "VARCHAR(255)\n",
      "VARCHAR(255)\n",
      "VARCHAR(255)\n"
     ]
    }
   ],
   "source": [
    "# Generate the CREATE TABLE statement based on DataFrame schema (attributemaster)\n",
    "create_table_sql2 = f\"CREATE TABLE {table_name2} (\"\n",
    "\n",
    "# Data type mapping dictionary\n",
    "type_mapping = {\n",
    "    'int64': 'INT',\n",
    "    'float64': 'FLOAT',\n",
    "    'object': 'VARCHAR(255)',  # Adjust the max length as needed\n",
    "}\n",
    "\n",
    "for column, dtype in df2.dtypes.items():\n",
    "    sql_type = type_mapping.get(str(dtype), 'varchar(255)')  # Default to VARCHAR if data type not in the mapping\n",
    "    print(sql_type)\n",
    "    if column == primarykey :\n",
    "        create_table_sql2 += f\"\\n{column} {sql_type} PRIMARY KEY,\"\n",
    "    else:\n",
    "        create_table_sql2 += f\"\\n{column} {sql_type} NULL,\""
   ]
  },
  {
   "cell_type": "code",
   "execution_count": 30,
   "metadata": {},
   "outputs": [
    {
     "name": "stdout",
     "output_type": "stream",
     "text": [
      "CREATE TABLE priceinformation (\n",
      "M_NO VARCHAR(255) NULL,\n",
      "Vendor_no INT NULL,\n",
      "Plant_Name VARCHAR(255) NULL,\n",
      "Plant_Country VARCHAR(255) NULL,\n",
      "Net_Price FLOAT NULL,\n"
     ]
    }
   ],
   "source": [
    "print(create_table_sql1)"
   ]
  },
  {
   "cell_type": "code",
   "execution_count": 31,
   "metadata": {},
   "outputs": [
    {
     "name": "stdout",
     "output_type": "stream",
     "text": [
      "CREATE TABLE attributemaster (\n",
      "M_NO VARCHAR(255) NULL,\n",
      "Commodity_Level_2 VARCHAR(255) NULL,\n",
      "Product_Description VARCHAR(255) NULL,\n"
     ]
    }
   ],
   "source": [
    "print(create_table_sql2)"
   ]
  },
  {
   "cell_type": "code",
   "execution_count": null,
   "metadata": {},
   "outputs": [],
   "source": [
    "# Remove the trailing comma and close the statement\n",
    "create_table_sql = create_table_sql.rstrip(\",\") + \"\\n);\""
   ]
  },
  {
   "cell_type": "code",
   "execution_count": 32,
   "metadata": {},
   "outputs": [],
   "source": [
    "create_table_sql1 = create_table_sql1.rstrip(\",\") + \"\\n);\""
   ]
  },
  {
   "cell_type": "code",
   "execution_count": 33,
   "metadata": {},
   "outputs": [],
   "source": [
    "create_table_sql2 = create_table_sql2.rstrip(\",\") + \"\\n);\""
   ]
  },
  {
   "cell_type": "code",
   "execution_count": null,
   "metadata": {},
   "outputs": [],
   "source": [
    "# Execute the CREATE TABLE statement\n",
    "query = create_table_sql\n",
    "try:\n",
    "    cursor.execute(query)\n",
    "    conn.commit()\n",
    "    print(f\"Table '{table_name}' created successfully.\")\n",
    "except pyodbc.Error as e:\n",
    "    print(f\"Error creating table: {e}\")\n",
    "    conn.rollback()"
   ]
  },
  {
   "cell_type": "code",
   "execution_count": 34,
   "metadata": {},
   "outputs": [
    {
     "name": "stdout",
     "output_type": "stream",
     "text": [
      "Table 'priceinformation' created successfully.\n"
     ]
    }
   ],
   "source": [
    "query1 = create_table_sql1\n",
    "try:\n",
    "    cursor.execute(query1)\n",
    "    conn.commit()\n",
    "    print(f\"Table '{table_name1}' created successfully.\")\n",
    "except pyodbc.Error as e:\n",
    "    print(f\"Error creating table: {e}\")\n",
    "    conn.rollback()"
   ]
  },
  {
   "cell_type": "code",
   "execution_count": 35,
   "metadata": {},
   "outputs": [
    {
     "name": "stdout",
     "output_type": "stream",
     "text": [
      "Table 'attributemaster' created successfully.\n"
     ]
    }
   ],
   "source": [
    "query2 = create_table_sql2\n",
    "try:\n",
    "    cursor.execute(query2)\n",
    "    conn.commit()\n",
    "    print(f\"Table '{table_name2}' created successfully.\")\n",
    "except pyodbc.Error as e:\n",
    "    print(f\"Error creating table: {e}\")\n",
    "    conn.rollback()"
   ]
  },
  {
   "cell_type": "code",
   "execution_count": null,
   "metadata": {},
   "outputs": [],
   "source": [
    "print(cursor)"
   ]
  },
  {
   "cell_type": "code",
   "execution_count": null,
   "metadata": {},
   "outputs": [],
   "source": [
    "#insert to table\n",
    "for _, row in df.iterrows():\n",
    "    row = [None if pd.isna(value) else value for value in row]\n",
    "    insert_data_sql = f\"INSERT INTO {table_name} ({', '.join(df.columns)}) VALUES ({', '.join(['?'] * len(df.columns))})\"\n",
    "    cursor.execute(insert_data_sql, tuple(row))"
   ]
  },
  {
   "cell_type": "code",
   "execution_count": 36,
   "metadata": {},
   "outputs": [],
   "source": [
    "for _, row in df1.iterrows():\n",
    "    row = [None if pd.isna(value) else value for value in row]\n",
    "    insert_data_sql1 = f\"INSERT INTO {table_name1} ({', '.join(df1.columns)}) VALUES ({', '.join(['?'] * len(df1.columns))})\"\n",
    "    cursor.execute(insert_data_sql1, tuple(row))"
   ]
  },
  {
   "cell_type": "code",
   "execution_count": 37,
   "metadata": {},
   "outputs": [],
   "source": [
    "for _, row in df2.iterrows():\n",
    "    row = [None if pd.isna(value) else value for value in row]\n",
    "    insert_data_sql2 = f\"INSERT INTO {table_name2} ({', '.join(df2.columns)}) VALUES ({', '.join(['?'] * len(df2.columns))})\"\n",
    "    cursor.execute(insert_data_sql2, tuple(row))"
   ]
  },
  {
   "cell_type": "code",
   "execution_count": 38,
   "metadata": {},
   "outputs": [],
   "source": [
    "conn.commit()"
   ]
  },
  {
   "cell_type": "code",
   "execution_count": null,
   "metadata": {},
   "outputs": [],
   "source": []
  }
 ],
 "metadata": {
  "kernelspec": {
   "display_name": ".venv",
   "language": "python",
   "name": "python3"
  },
  "language_info": {
   "codemirror_mode": {
    "name": "ipython",
    "version": 3
   },
   "file_extension": ".py",
   "mimetype": "text/x-python",
   "name": "python",
   "nbconvert_exporter": "python",
   "pygments_lexer": "ipython3",
   "version": "3.11.4"
  },
  "orig_nbformat": 4
 },
 "nbformat": 4,
 "nbformat_minor": 2
}
